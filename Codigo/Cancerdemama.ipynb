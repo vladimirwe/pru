{
 "cells": [
  {
   "cell_type": "code",
   "execution_count": 135,
   "metadata": {},
   "outputs": [],
   "source": [
    "import pandas as pd\n",
    "import numpy as np\n",
    "import matplotlib.pyplot as plt\n",
    "import seaborn as sns\n",
    "from sklearn.model_selection import train_test_split\n",
    "from sklearn.svm import SVC\n",
    "from sklearn.metrics import confusion_matrix\n",
    "from sklearn.preprocessing import LabelEncoder\n",
    "\n",
    "\n",
    "from sklearn.decomposition import PCA\n",
    "from sklearn.preprocessing import StandardScaler\n",
    "from sklearn.naive_bayes import GaussianNB\n",
    "from sklearn.metrics import accuracy_score, precision_score, recall_score, f1_score"
   ]
  },
  {
   "cell_type": "code",
   "execution_count": 136,
   "metadata": {},
   "outputs": [],
   "source": [
    "data = pd.read_csv('cancer_de_mama_sin_anaplastic.csv', sep=';')\n"
   ]
  },
  {
   "cell_type": "code",
   "execution_count": 137,
   "metadata": {},
   "outputs": [
    {
     "data": {
      "text/html": [
       "<div>\n",
       "<style scoped>\n",
       "    .dataframe tbody tr th:only-of-type {\n",
       "        vertical-align: middle;\n",
       "    }\n",
       "\n",
       "    .dataframe tbody tr th {\n",
       "        vertical-align: top;\n",
       "    }\n",
       "\n",
       "    .dataframe thead th {\n",
       "        text-align: right;\n",
       "    }\n",
       "</style>\n",
       "<table border=\"1\" class=\"dataframe\">\n",
       "  <thead>\n",
       "    <tr style=\"text-align: right;\">\n",
       "      <th></th>\n",
       "      <th>Age</th>\n",
       "      <th>Race</th>\n",
       "      <th>Marital Status</th>\n",
       "      <th>differentiate</th>\n",
       "      <th>Grade</th>\n",
       "      <th>A Stage</th>\n",
       "      <th>Tumor Size</th>\n",
       "      <th>Estrogen Status</th>\n",
       "      <th>Progesterone Status</th>\n",
       "      <th>Regional Node Examined</th>\n",
       "      <th>Reginol Node Positive</th>\n",
       "      <th>Survival Months</th>\n",
       "      <th>Status</th>\n",
       "    </tr>\n",
       "  </thead>\n",
       "  <tbody>\n",
       "    <tr>\n",
       "      <th>0</th>\n",
       "      <td>68</td>\n",
       "      <td>White</td>\n",
       "      <td>Married</td>\n",
       "      <td>Poorly differentiated</td>\n",
       "      <td>3</td>\n",
       "      <td>Regional</td>\n",
       "      <td>4.0</td>\n",
       "      <td>Positive</td>\n",
       "      <td>Positive</td>\n",
       "      <td>24.0</td>\n",
       "      <td>1.0</td>\n",
       "      <td>60.0</td>\n",
       "      <td>Alive</td>\n",
       "    </tr>\n",
       "    <tr>\n",
       "      <th>1</th>\n",
       "      <td>50</td>\n",
       "      <td>White</td>\n",
       "      <td>Married</td>\n",
       "      <td>Moderately differentiated</td>\n",
       "      <td>2</td>\n",
       "      <td>Regional</td>\n",
       "      <td>35.0</td>\n",
       "      <td>Positive</td>\n",
       "      <td>Positive</td>\n",
       "      <td>14.0</td>\n",
       "      <td>5.0</td>\n",
       "      <td>62.0</td>\n",
       "      <td>Alive</td>\n",
       "    </tr>\n",
       "    <tr>\n",
       "      <th>2</th>\n",
       "      <td>58</td>\n",
       "      <td>White</td>\n",
       "      <td>Divorced</td>\n",
       "      <td>Moderately differentiated</td>\n",
       "      <td>2</td>\n",
       "      <td>Regional</td>\n",
       "      <td>63.0</td>\n",
       "      <td>Positive</td>\n",
       "      <td>Positive</td>\n",
       "      <td>14.0</td>\n",
       "      <td>7.0</td>\n",
       "      <td>75.0</td>\n",
       "      <td>Alive</td>\n",
       "    </tr>\n",
       "    <tr>\n",
       "      <th>3</th>\n",
       "      <td>58</td>\n",
       "      <td>White</td>\n",
       "      <td>Married</td>\n",
       "      <td>Poorly differentiated</td>\n",
       "      <td>3</td>\n",
       "      <td>Regional</td>\n",
       "      <td>18.0</td>\n",
       "      <td>Positive</td>\n",
       "      <td>Positive</td>\n",
       "      <td>2.0</td>\n",
       "      <td>1.0</td>\n",
       "      <td>84.0</td>\n",
       "      <td>Alive</td>\n",
       "    </tr>\n",
       "    <tr>\n",
       "      <th>4</th>\n",
       "      <td>47</td>\n",
       "      <td>White</td>\n",
       "      <td>Married</td>\n",
       "      <td>Poorly differentiated</td>\n",
       "      <td>3</td>\n",
       "      <td>Regional</td>\n",
       "      <td>41.0</td>\n",
       "      <td>Positive</td>\n",
       "      <td>Positive</td>\n",
       "      <td>3.0</td>\n",
       "      <td>1.0</td>\n",
       "      <td>50.0</td>\n",
       "      <td>Alive</td>\n",
       "    </tr>\n",
       "  </tbody>\n",
       "</table>\n",
       "</div>"
      ],
      "text/plain": [
       "   Age   Race Marital Status              differentiate  Grade   A Stage  \\\n",
       "0   68  White        Married      Poorly differentiated      3  Regional   \n",
       "1   50  White        Married  Moderately differentiated      2  Regional   \n",
       "2   58  White       Divorced  Moderately differentiated      2  Regional   \n",
       "3   58  White        Married      Poorly differentiated      3  Regional   \n",
       "4   47  White        Married      Poorly differentiated      3  Regional   \n",
       "\n",
       "   Tumor Size Estrogen Status Progesterone Status  Regional Node Examined  \\\n",
       "0         4.0        Positive            Positive                    24.0   \n",
       "1        35.0        Positive            Positive                    14.0   \n",
       "2        63.0        Positive            Positive                    14.0   \n",
       "3        18.0        Positive            Positive                     2.0   \n",
       "4        41.0        Positive            Positive                     3.0   \n",
       "\n",
       "   Reginol Node Positive  Survival Months Status  \n",
       "0                    1.0             60.0  Alive  \n",
       "1                    5.0             62.0  Alive  \n",
       "2                    7.0             75.0  Alive  \n",
       "3                    1.0             84.0  Alive  \n",
       "4                    1.0             50.0  Alive  "
      ]
     },
     "execution_count": 137,
     "metadata": {},
     "output_type": "execute_result"
    }
   ],
   "source": [
    "data.head()"
   ]
  },
  {
   "cell_type": "code",
   "execution_count": 138,
   "metadata": {},
   "outputs": [
    {
     "data": {
      "text/plain": [
       "Index(['Age', 'Race', 'Marital Status', 'differentiate', 'Grade', 'A Stage',\n",
       "       'Tumor Size', 'Estrogen Status', 'Progesterone Status',\n",
       "       'Regional Node Examined', 'Reginol Node Positive', 'Survival Months',\n",
       "       'Status'],\n",
       "      dtype='object')"
      ]
     },
     "execution_count": 138,
     "metadata": {},
     "output_type": "execute_result"
    }
   ],
   "source": [
    "data.columns"
   ]
  },
  {
   "cell_type": "code",
   "execution_count": 139,
   "metadata": {},
   "outputs": [
    {
     "data": {
      "text/plain": [
       "Age                       0\n",
       "Race                      0\n",
       "Marital Status            0\n",
       "differentiate             0\n",
       "Grade                     0\n",
       "A Stage                   0\n",
       "Tumor Size                0\n",
       "Estrogen Status           0\n",
       "Progesterone Status       0\n",
       "Regional Node Examined    0\n",
       "Reginol Node Positive     0\n",
       "Survival Months           0\n",
       "Status                    0\n",
       "dtype: int64"
      ]
     },
     "execution_count": 139,
     "metadata": {},
     "output_type": "execute_result"
    }
   ],
   "source": [
    "data.isna().sum()\n"
   ]
  },
  {
   "cell_type": "code",
   "execution_count": 140,
   "metadata": {},
   "outputs": [
    {
     "data": {
      "text/plain": [
       "Age                         int64\n",
       "Race                       object\n",
       "Marital Status             object\n",
       "differentiate              object\n",
       "Grade                       int64\n",
       "A Stage                    object\n",
       "Tumor Size                float64\n",
       "Estrogen Status            object\n",
       "Progesterone Status        object\n",
       "Regional Node Examined    float64\n",
       "Reginol Node Positive     float64\n",
       "Survival Months           float64\n",
       "Status                     object\n",
       "dtype: object"
      ]
     },
     "execution_count": 140,
     "metadata": {},
     "output_type": "execute_result"
    }
   ],
   "source": [
    "data.dtypes"
   ]
  },
  {
   "cell_type": "code",
   "execution_count": 141,
   "metadata": {},
   "outputs": [
    {
     "data": {
      "text/plain": [
       "Age                         int64\n",
       "Race                       object\n",
       "Marital Status             object\n",
       "differentiate              object\n",
       "Grade                       int64\n",
       "A Stage                    object\n",
       "Tumor Size                float64\n",
       "Estrogen Status            object\n",
       "Progesterone Status        object\n",
       "Regional Node Examined    float64\n",
       "Reginol Node Positive     float64\n",
       "Survival Months           float64\n",
       "Status                     object\n",
       "dtype: object"
      ]
     },
     "execution_count": 141,
     "metadata": {},
     "output_type": "execute_result"
    }
   ],
   "source": [
    "data.dtypes"
   ]
  },
  {
   "cell_type": "code",
   "execution_count": 142,
   "metadata": {},
   "outputs": [],
   "source": [
    "# Separar características (X) y variable dependiente (y)\n",
    "data = data.drop(columns=['differentiate','A Stage','Estrogen Status','Progesterone Status'], axis=1)"
   ]
  },
  {
   "cell_type": "code",
   "execution_count": 143,
   "metadata": {},
   "outputs": [
    {
     "data": {
      "text/plain": [
       "Index(['Age', 'Race', 'Marital Status', 'Grade', 'Tumor Size',\n",
       "       'Regional Node Examined', 'Reginol Node Positive', 'Survival Months',\n",
       "       'Status'],\n",
       "      dtype='object')"
      ]
     },
     "execution_count": 143,
     "metadata": {},
     "output_type": "execute_result"
    }
   ],
   "source": [
    "data.columns"
   ]
  },
  {
   "cell_type": "code",
   "execution_count": 144,
   "metadata": {},
   "outputs": [
    {
     "data": {
      "text/plain": [
       "Age                         int64\n",
       "Race                       object\n",
       "Marital Status             object\n",
       "Grade                       int64\n",
       "Tumor Size                float64\n",
       "Regional Node Examined    float64\n",
       "Reginol Node Positive     float64\n",
       "Survival Months           float64\n",
       "Status                     object\n",
       "dtype: object"
      ]
     },
     "execution_count": 144,
     "metadata": {},
     "output_type": "execute_result"
    }
   ],
   "source": [
    "data.dtypes"
   ]
  },
  {
   "cell_type": "code",
   "execution_count": null,
   "metadata": {},
   "outputs": [],
   "source": []
  },
  {
   "cell_type": "code",
   "execution_count": 145,
   "metadata": {},
   "outputs": [
    {
     "data": {
      "text/plain": [
       "Age                       0\n",
       "Race                      0\n",
       "Marital Status            0\n",
       "Grade                     0\n",
       "Tumor Size                0\n",
       "Regional Node Examined    0\n",
       "Reginol Node Positive     0\n",
       "Survival Months           0\n",
       "Status                    0\n",
       "dtype: int64"
      ]
     },
     "execution_count": 145,
     "metadata": {},
     "output_type": "execute_result"
    }
   ],
   "source": [
    "data.isna().sum()"
   ]
  },
  {
   "cell_type": "code",
   "execution_count": 146,
   "metadata": {},
   "outputs": [
    {
     "data": {
      "text/html": [
       "<div>\n",
       "<style scoped>\n",
       "    .dataframe tbody tr th:only-of-type {\n",
       "        vertical-align: middle;\n",
       "    }\n",
       "\n",
       "    .dataframe tbody tr th {\n",
       "        vertical-align: top;\n",
       "    }\n",
       "\n",
       "    .dataframe thead th {\n",
       "        text-align: right;\n",
       "    }\n",
       "</style>\n",
       "<table border=\"1\" class=\"dataframe\">\n",
       "  <thead>\n",
       "    <tr style=\"text-align: right;\">\n",
       "      <th></th>\n",
       "      <th>Age</th>\n",
       "      <th>Race</th>\n",
       "      <th>Marital Status</th>\n",
       "      <th>Grade</th>\n",
       "      <th>Tumor Size</th>\n",
       "      <th>Regional Node Examined</th>\n",
       "      <th>Reginol Node Positive</th>\n",
       "      <th>Survival Months</th>\n",
       "      <th>Status</th>\n",
       "    </tr>\n",
       "  </thead>\n",
       "  <tbody>\n",
       "    <tr>\n",
       "      <th>0</th>\n",
       "      <td>68</td>\n",
       "      <td>White</td>\n",
       "      <td>Married</td>\n",
       "      <td>3</td>\n",
       "      <td>4.0</td>\n",
       "      <td>24.0</td>\n",
       "      <td>1.0</td>\n",
       "      <td>60.0</td>\n",
       "      <td>Alive</td>\n",
       "    </tr>\n",
       "    <tr>\n",
       "      <th>1</th>\n",
       "      <td>50</td>\n",
       "      <td>White</td>\n",
       "      <td>Married</td>\n",
       "      <td>2</td>\n",
       "      <td>35.0</td>\n",
       "      <td>14.0</td>\n",
       "      <td>5.0</td>\n",
       "      <td>62.0</td>\n",
       "      <td>Alive</td>\n",
       "    </tr>\n",
       "    <tr>\n",
       "      <th>2</th>\n",
       "      <td>58</td>\n",
       "      <td>White</td>\n",
       "      <td>Divorced</td>\n",
       "      <td>2</td>\n",
       "      <td>63.0</td>\n",
       "      <td>14.0</td>\n",
       "      <td>7.0</td>\n",
       "      <td>75.0</td>\n",
       "      <td>Alive</td>\n",
       "    </tr>\n",
       "    <tr>\n",
       "      <th>3</th>\n",
       "      <td>58</td>\n",
       "      <td>White</td>\n",
       "      <td>Married</td>\n",
       "      <td>3</td>\n",
       "      <td>18.0</td>\n",
       "      <td>2.0</td>\n",
       "      <td>1.0</td>\n",
       "      <td>84.0</td>\n",
       "      <td>Alive</td>\n",
       "    </tr>\n",
       "    <tr>\n",
       "      <th>4</th>\n",
       "      <td>47</td>\n",
       "      <td>White</td>\n",
       "      <td>Married</td>\n",
       "      <td>3</td>\n",
       "      <td>41.0</td>\n",
       "      <td>3.0</td>\n",
       "      <td>1.0</td>\n",
       "      <td>50.0</td>\n",
       "      <td>Alive</td>\n",
       "    </tr>\n",
       "  </tbody>\n",
       "</table>\n",
       "</div>"
      ],
      "text/plain": [
       "   Age   Race Marital Status  Grade  Tumor Size  Regional Node Examined  \\\n",
       "0   68  White        Married      3         4.0                    24.0   \n",
       "1   50  White        Married      2        35.0                    14.0   \n",
       "2   58  White       Divorced      2        63.0                    14.0   \n",
       "3   58  White        Married      3        18.0                     2.0   \n",
       "4   47  White        Married      3        41.0                     3.0   \n",
       "\n",
       "   Reginol Node Positive  Survival Months Status  \n",
       "0                    1.0             60.0  Alive  \n",
       "1                    5.0             62.0  Alive  \n",
       "2                    7.0             75.0  Alive  \n",
       "3                    1.0             84.0  Alive  \n",
       "4                    1.0             50.0  Alive  "
      ]
     },
     "execution_count": 146,
     "metadata": {},
     "output_type": "execute_result"
    }
   ],
   "source": [
    "data.head()"
   ]
  },
  {
   "cell_type": "code",
   "execution_count": 147,
   "metadata": {},
   "outputs": [],
   "source": [
    "# Mapear valores categóricos a numéricos\n",
    "data['Status'] = data['Status'].map({'Alive': 1, 'Dead': 0})"
   ]
  },
  {
   "cell_type": "code",
   "execution_count": 148,
   "metadata": {},
   "outputs": [
    {
     "name": "stdout",
     "output_type": "stream",
     "text": [
      "Index(['Age', 'Race', 'Marital Status', 'Grade', 'Tumor Size',\n",
      "       'Regional Node Examined', 'Reginol Node Positive', 'Survival Months',\n",
      "       'Status'],\n",
      "      dtype='object')\n"
     ]
    }
   ],
   "source": [
    "print(data.columns)"
   ]
  },
  {
   "cell_type": "markdown",
   "metadata": {},
   "source": [
    "Preprocesamiento de Datos"
   ]
  },
  {
   "cell_type": "code",
   "execution_count": 149,
   "metadata": {},
   "outputs": [],
   "source": [
    "# Eliminar espacios en blanco alrededor de los valores\n",
    "data['Race'] = data['Race'].str.strip()\n",
    "data['Marital Status'] = data['Marital Status'].str.strip()\n",
    "\n",
    "# Realizar codificación one-hot para todas las columnas categóricas\n",
    "race_dummy = pd.get_dummies(data['Race'], prefix='Race')\n",
    "marital_status_dummy = pd.get_dummies(data['Marital Status'], prefix='Marital_Status')\n",
    "# Concatenar los DataFrames resultantes\n",
    "data_encoded = pd.concat([data, race_dummy, marital_status_dummy], axis=1)"
   ]
  },
  {
   "cell_type": "code",
   "execution_count": 150,
   "metadata": {},
   "outputs": [
    {
     "data": {
      "text/html": [
       "<div>\n",
       "<style scoped>\n",
       "    .dataframe tbody tr th:only-of-type {\n",
       "        vertical-align: middle;\n",
       "    }\n",
       "\n",
       "    .dataframe tbody tr th {\n",
       "        vertical-align: top;\n",
       "    }\n",
       "\n",
       "    .dataframe thead th {\n",
       "        text-align: right;\n",
       "    }\n",
       "</style>\n",
       "<table border=\"1\" class=\"dataframe\">\n",
       "  <thead>\n",
       "    <tr style=\"text-align: right;\">\n",
       "      <th></th>\n",
       "      <th>Age</th>\n",
       "      <th>Race</th>\n",
       "      <th>Marital Status</th>\n",
       "      <th>Grade</th>\n",
       "      <th>Tumor Size</th>\n",
       "      <th>Regional Node Examined</th>\n",
       "      <th>Reginol Node Positive</th>\n",
       "      <th>Survival Months</th>\n",
       "      <th>Status</th>\n",
       "      <th>Race_Black</th>\n",
       "      <th>Race_Other</th>\n",
       "      <th>Race_White</th>\n",
       "      <th>Marital_Status_Divorced</th>\n",
       "      <th>Marital_Status_Married</th>\n",
       "      <th>Marital_Status_Separated</th>\n",
       "      <th>Marital_Status_Single</th>\n",
       "      <th>Marital_Status_Widowed</th>\n",
       "    </tr>\n",
       "  </thead>\n",
       "  <tbody>\n",
       "    <tr>\n",
       "      <th>0</th>\n",
       "      <td>68</td>\n",
       "      <td>White</td>\n",
       "      <td>Married</td>\n",
       "      <td>3</td>\n",
       "      <td>4.0</td>\n",
       "      <td>24.0</td>\n",
       "      <td>1.0</td>\n",
       "      <td>60.0</td>\n",
       "      <td>1</td>\n",
       "      <td>0</td>\n",
       "      <td>0</td>\n",
       "      <td>1</td>\n",
       "      <td>0</td>\n",
       "      <td>1</td>\n",
       "      <td>0</td>\n",
       "      <td>0</td>\n",
       "      <td>0</td>\n",
       "    </tr>\n",
       "    <tr>\n",
       "      <th>1</th>\n",
       "      <td>50</td>\n",
       "      <td>White</td>\n",
       "      <td>Married</td>\n",
       "      <td>2</td>\n",
       "      <td>35.0</td>\n",
       "      <td>14.0</td>\n",
       "      <td>5.0</td>\n",
       "      <td>62.0</td>\n",
       "      <td>1</td>\n",
       "      <td>0</td>\n",
       "      <td>0</td>\n",
       "      <td>1</td>\n",
       "      <td>0</td>\n",
       "      <td>1</td>\n",
       "      <td>0</td>\n",
       "      <td>0</td>\n",
       "      <td>0</td>\n",
       "    </tr>\n",
       "    <tr>\n",
       "      <th>2</th>\n",
       "      <td>58</td>\n",
       "      <td>White</td>\n",
       "      <td>Divorced</td>\n",
       "      <td>2</td>\n",
       "      <td>63.0</td>\n",
       "      <td>14.0</td>\n",
       "      <td>7.0</td>\n",
       "      <td>75.0</td>\n",
       "      <td>1</td>\n",
       "      <td>0</td>\n",
       "      <td>0</td>\n",
       "      <td>1</td>\n",
       "      <td>1</td>\n",
       "      <td>0</td>\n",
       "      <td>0</td>\n",
       "      <td>0</td>\n",
       "      <td>0</td>\n",
       "    </tr>\n",
       "    <tr>\n",
       "      <th>3</th>\n",
       "      <td>58</td>\n",
       "      <td>White</td>\n",
       "      <td>Married</td>\n",
       "      <td>3</td>\n",
       "      <td>18.0</td>\n",
       "      <td>2.0</td>\n",
       "      <td>1.0</td>\n",
       "      <td>84.0</td>\n",
       "      <td>1</td>\n",
       "      <td>0</td>\n",
       "      <td>0</td>\n",
       "      <td>1</td>\n",
       "      <td>0</td>\n",
       "      <td>1</td>\n",
       "      <td>0</td>\n",
       "      <td>0</td>\n",
       "      <td>0</td>\n",
       "    </tr>\n",
       "    <tr>\n",
       "      <th>4</th>\n",
       "      <td>47</td>\n",
       "      <td>White</td>\n",
       "      <td>Married</td>\n",
       "      <td>3</td>\n",
       "      <td>41.0</td>\n",
       "      <td>3.0</td>\n",
       "      <td>1.0</td>\n",
       "      <td>50.0</td>\n",
       "      <td>1</td>\n",
       "      <td>0</td>\n",
       "      <td>0</td>\n",
       "      <td>1</td>\n",
       "      <td>0</td>\n",
       "      <td>1</td>\n",
       "      <td>0</td>\n",
       "      <td>0</td>\n",
       "      <td>0</td>\n",
       "    </tr>\n",
       "    <tr>\n",
       "      <th>...</th>\n",
       "      <td>...</td>\n",
       "      <td>...</td>\n",
       "      <td>...</td>\n",
       "      <td>...</td>\n",
       "      <td>...</td>\n",
       "      <td>...</td>\n",
       "      <td>...</td>\n",
       "      <td>...</td>\n",
       "      <td>...</td>\n",
       "      <td>...</td>\n",
       "      <td>...</td>\n",
       "      <td>...</td>\n",
       "      <td>...</td>\n",
       "      <td>...</td>\n",
       "      <td>...</td>\n",
       "      <td>...</td>\n",
       "      <td>...</td>\n",
       "    </tr>\n",
       "    <tr>\n",
       "      <th>4000</th>\n",
       "      <td>62</td>\n",
       "      <td>Other</td>\n",
       "      <td>Married</td>\n",
       "      <td>2</td>\n",
       "      <td>9.0</td>\n",
       "      <td>1.0</td>\n",
       "      <td>1.0</td>\n",
       "      <td>49.0</td>\n",
       "      <td>1</td>\n",
       "      <td>0</td>\n",
       "      <td>1</td>\n",
       "      <td>0</td>\n",
       "      <td>0</td>\n",
       "      <td>1</td>\n",
       "      <td>0</td>\n",
       "      <td>0</td>\n",
       "      <td>0</td>\n",
       "    </tr>\n",
       "    <tr>\n",
       "      <th>4001</th>\n",
       "      <td>56</td>\n",
       "      <td>White</td>\n",
       "      <td>Divorced</td>\n",
       "      <td>2</td>\n",
       "      <td>46.0</td>\n",
       "      <td>14.0</td>\n",
       "      <td>8.0</td>\n",
       "      <td>69.0</td>\n",
       "      <td>1</td>\n",
       "      <td>0</td>\n",
       "      <td>0</td>\n",
       "      <td>1</td>\n",
       "      <td>1</td>\n",
       "      <td>0</td>\n",
       "      <td>0</td>\n",
       "      <td>0</td>\n",
       "      <td>0</td>\n",
       "    </tr>\n",
       "    <tr>\n",
       "      <th>4002</th>\n",
       "      <td>68</td>\n",
       "      <td>White</td>\n",
       "      <td>Married</td>\n",
       "      <td>2</td>\n",
       "      <td>22.0</td>\n",
       "      <td>11.0</td>\n",
       "      <td>3.0</td>\n",
       "      <td>69.0</td>\n",
       "      <td>1</td>\n",
       "      <td>0</td>\n",
       "      <td>0</td>\n",
       "      <td>1</td>\n",
       "      <td>0</td>\n",
       "      <td>1</td>\n",
       "      <td>0</td>\n",
       "      <td>0</td>\n",
       "      <td>0</td>\n",
       "    </tr>\n",
       "    <tr>\n",
       "      <th>4003</th>\n",
       "      <td>58</td>\n",
       "      <td>Black</td>\n",
       "      <td>Divorced</td>\n",
       "      <td>2</td>\n",
       "      <td>44.0</td>\n",
       "      <td>11.0</td>\n",
       "      <td>1.0</td>\n",
       "      <td>72.0</td>\n",
       "      <td>1</td>\n",
       "      <td>1</td>\n",
       "      <td>0</td>\n",
       "      <td>0</td>\n",
       "      <td>1</td>\n",
       "      <td>0</td>\n",
       "      <td>0</td>\n",
       "      <td>0</td>\n",
       "      <td>0</td>\n",
       "    </tr>\n",
       "    <tr>\n",
       "      <th>4004</th>\n",
       "      <td>46</td>\n",
       "      <td>White</td>\n",
       "      <td>Married</td>\n",
       "      <td>2</td>\n",
       "      <td>30.0</td>\n",
       "      <td>7.0</td>\n",
       "      <td>2.0</td>\n",
       "      <td>100.0</td>\n",
       "      <td>1</td>\n",
       "      <td>0</td>\n",
       "      <td>0</td>\n",
       "      <td>1</td>\n",
       "      <td>0</td>\n",
       "      <td>1</td>\n",
       "      <td>0</td>\n",
       "      <td>0</td>\n",
       "      <td>0</td>\n",
       "    </tr>\n",
       "  </tbody>\n",
       "</table>\n",
       "<p>4005 rows × 17 columns</p>\n",
       "</div>"
      ],
      "text/plain": [
       "      Age   Race Marital Status  Grade  Tumor Size  Regional Node Examined  \\\n",
       "0      68  White        Married      3         4.0                    24.0   \n",
       "1      50  White        Married      2        35.0                    14.0   \n",
       "2      58  White       Divorced      2        63.0                    14.0   \n",
       "3      58  White        Married      3        18.0                     2.0   \n",
       "4      47  White        Married      3        41.0                     3.0   \n",
       "...   ...    ...            ...    ...         ...                     ...   \n",
       "4000   62  Other        Married      2         9.0                     1.0   \n",
       "4001   56  White       Divorced      2        46.0                    14.0   \n",
       "4002   68  White        Married      2        22.0                    11.0   \n",
       "4003   58  Black       Divorced      2        44.0                    11.0   \n",
       "4004   46  White        Married      2        30.0                     7.0   \n",
       "\n",
       "      Reginol Node Positive  Survival Months  Status  Race_Black  Race_Other  \\\n",
       "0                       1.0             60.0       1           0           0   \n",
       "1                       5.0             62.0       1           0           0   \n",
       "2                       7.0             75.0       1           0           0   \n",
       "3                       1.0             84.0       1           0           0   \n",
       "4                       1.0             50.0       1           0           0   \n",
       "...                     ...              ...     ...         ...         ...   \n",
       "4000                    1.0             49.0       1           0           1   \n",
       "4001                    8.0             69.0       1           0           0   \n",
       "4002                    3.0             69.0       1           0           0   \n",
       "4003                    1.0             72.0       1           1           0   \n",
       "4004                    2.0            100.0       1           0           0   \n",
       "\n",
       "      Race_White  Marital_Status_Divorced  Marital_Status_Married  \\\n",
       "0              1                        0                       1   \n",
       "1              1                        0                       1   \n",
       "2              1                        1                       0   \n",
       "3              1                        0                       1   \n",
       "4              1                        0                       1   \n",
       "...          ...                      ...                     ...   \n",
       "4000           0                        0                       1   \n",
       "4001           1                        1                       0   \n",
       "4002           1                        0                       1   \n",
       "4003           0                        1                       0   \n",
       "4004           1                        0                       1   \n",
       "\n",
       "      Marital_Status_Separated  Marital_Status_Single  Marital_Status_Widowed  \n",
       "0                            0                      0                       0  \n",
       "1                            0                      0                       0  \n",
       "2                            0                      0                       0  \n",
       "3                            0                      0                       0  \n",
       "4                            0                      0                       0  \n",
       "...                        ...                    ...                     ...  \n",
       "4000                         0                      0                       0  \n",
       "4001                         0                      0                       0  \n",
       "4002                         0                      0                       0  \n",
       "4003                         0                      0                       0  \n",
       "4004                         0                      0                       0  \n",
       "\n",
       "[4005 rows x 17 columns]"
      ]
     },
     "execution_count": 150,
     "metadata": {},
     "output_type": "execute_result"
    }
   ],
   "source": [
    "data_encoded"
   ]
  },
  {
   "cell_type": "code",
   "execution_count": 151,
   "metadata": {},
   "outputs": [
    {
     "name": "stdout",
     "output_type": "stream",
     "text": [
      "      Age  Grade  Tumor Size  Regional Node Examined  Reginol Node Positive  \\\n",
      "0      68      3         4.0                    24.0                    1.0   \n",
      "1      50      2        35.0                    14.0                    5.0   \n",
      "2      58      2        63.0                    14.0                    7.0   \n",
      "3      58      3        18.0                     2.0                    1.0   \n",
      "4      47      3        41.0                     3.0                    1.0   \n",
      "...   ...    ...         ...                     ...                    ...   \n",
      "4000   62      2         9.0                     1.0                    1.0   \n",
      "4001   56      2        46.0                    14.0                    8.0   \n",
      "4002   68      2        22.0                    11.0                    3.0   \n",
      "4003   58      2        44.0                    11.0                    1.0   \n",
      "4004   46      2        30.0                     7.0                    2.0   \n",
      "\n",
      "      Survival Months  Status  Race_Black  Race_Other  Race_White  \\\n",
      "0                60.0       1           0           0           1   \n",
      "1                62.0       1           0           0           1   \n",
      "2                75.0       1           0           0           1   \n",
      "3                84.0       1           0           0           1   \n",
      "4                50.0       1           0           0           1   \n",
      "...               ...     ...         ...         ...         ...   \n",
      "4000             49.0       1           0           1           0   \n",
      "4001             69.0       1           0           0           1   \n",
      "4002             69.0       1           0           0           1   \n",
      "4003             72.0       1           1           0           0   \n",
      "4004            100.0       1           0           0           1   \n",
      "\n",
      "      Marital_Status_Divorced  Marital_Status_Married  \\\n",
      "0                           0                       1   \n",
      "1                           0                       1   \n",
      "2                           1                       0   \n",
      "3                           0                       1   \n",
      "4                           0                       1   \n",
      "...                       ...                     ...   \n",
      "4000                        0                       1   \n",
      "4001                        1                       0   \n",
      "4002                        0                       1   \n",
      "4003                        1                       0   \n",
      "4004                        0                       1   \n",
      "\n",
      "      Marital_Status_Separated  Marital_Status_Single  Marital_Status_Widowed  \n",
      "0                            0                      0                       0  \n",
      "1                            0                      0                       0  \n",
      "2                            0                      0                       0  \n",
      "3                            0                      0                       0  \n",
      "4                            0                      0                       0  \n",
      "...                        ...                    ...                     ...  \n",
      "4000                         0                      0                       0  \n",
      "4001                         0                      0                       0  \n",
      "4002                         0                      0                       0  \n",
      "4003                         0                      0                       0  \n",
      "4004                         0                      0                       0  \n",
      "\n",
      "[4005 rows x 15 columns]\n"
     ]
    }
   ],
   "source": [
    "# Eliminar las columnas originales categóricas\n",
    "data_encoded.drop(['Race', 'Marital Status'], axis=1, inplace=True)\n",
    "\n",
    "# Mostrar el DataFrame resultante\n",
    "print(data_encoded)"
   ]
  },
  {
   "cell_type": "code",
   "execution_count": 152,
   "metadata": {},
   "outputs": [
    {
     "data": {
      "text/plain": [
       "Index(['Age', 'Grade', 'Tumor Size', 'Regional Node Examined',\n",
       "       'Reginol Node Positive', 'Survival Months', 'Status', 'Race_Black',\n",
       "       'Race_Other', 'Race_White', 'Marital_Status_Divorced',\n",
       "       'Marital_Status_Married', 'Marital_Status_Separated',\n",
       "       'Marital_Status_Single', 'Marital_Status_Widowed'],\n",
       "      dtype='object')"
      ]
     },
     "execution_count": 152,
     "metadata": {},
     "output_type": "execute_result"
    }
   ],
   "source": [
    "data_encoded.columns"
   ]
  },
  {
   "cell_type": "code",
   "execution_count": 153,
   "metadata": {},
   "outputs": [
    {
     "data": {
      "text/plain": [
       "Age                           int64\n",
       "Grade                         int64\n",
       "Tumor Size                  float64\n",
       "Regional Node Examined      float64\n",
       "Reginol Node Positive       float64\n",
       "Survival Months             float64\n",
       "Status                        int64\n",
       "Race_Black                    uint8\n",
       "Race_Other                    uint8\n",
       "Race_White                    uint8\n",
       "Marital_Status_Divorced       uint8\n",
       "Marital_Status_Married        uint8\n",
       "Marital_Status_Separated      uint8\n",
       "Marital_Status_Single         uint8\n",
       "Marital_Status_Widowed        uint8\n",
       "dtype: object"
      ]
     },
     "execution_count": 153,
     "metadata": {},
     "output_type": "execute_result"
    }
   ],
   "source": [
    "data_encoded.dtypes"
   ]
  },
  {
   "cell_type": "code",
   "execution_count": 154,
   "metadata": {},
   "outputs": [],
   "source": [
    "# Separar características (X) y variable dependiente (y)\n",
    "X = data_encoded.drop('Status', axis=1)  # Características (X)\n",
    "y = data['Status']  # Variable dependiente (y)"
   ]
  },
  {
   "cell_type": "code",
   "execution_count": 155,
   "metadata": {},
   "outputs": [
    {
     "data": {
      "text/plain": [
       "Index(['Age', 'Grade', 'Tumor Size', 'Regional Node Examined',\n",
       "       'Reginol Node Positive', 'Survival Months', 'Race_Black', 'Race_Other',\n",
       "       'Race_White', 'Marital_Status_Divorced', 'Marital_Status_Married',\n",
       "       'Marital_Status_Separated', 'Marital_Status_Single',\n",
       "       'Marital_Status_Widowed'],\n",
       "      dtype='object')"
      ]
     },
     "execution_count": 155,
     "metadata": {},
     "output_type": "execute_result"
    }
   ],
   "source": [
    "X.columns"
   ]
  },
  {
   "cell_type": "code",
   "execution_count": 156,
   "metadata": {},
   "outputs": [
    {
     "data": {
      "image/png": "[encoded data removed]",
      "text/plain": [
       "<Figure size 1200x800 with 1 Axes>"
      ]
     },
     "metadata": {},
     "output_type": "display_data"
    }
   ],
   "source": [
    "#Grafico de cajas\n",
    "\n",
    "X = pd.DataFrame(X)\n",
    "\n",
    "# Graficar diagramas de caja para todas las variables\n",
    "plt.figure(figsize=(12, 8))\n",
    "sns.boxplot(data=X)\n",
    "plt.xticks(rotation=45)\n",
    "plt.title('Diagramas de Caja de Todas las Variables')\n",
    "plt.show()"
   ]
  },
  {
   "cell_type": "code",
   "execution_count": 157,
   "metadata": {},
   "outputs": [
    {
     "name": "stdout",
     "output_type": "stream",
     "text": [
      "Nuevo conjunto de datos después de eliminar valores atípicos para la seleccionada:\n",
      "   Age  Grade  Tumor Size  Regional Node Examined  Reginol Node Positive  \\\n",
      "0   68      3         4.0                    24.0                    1.0   \n",
      "1   50      2        35.0                    14.0                    5.0   \n",
      "2   58      2        63.0                    14.0                    7.0   \n",
      "3   58      3        18.0                     2.0                    1.0   \n",
      "4   47      3        41.0                     3.0                    1.0   \n",
      "\n",
      "   Survival Months  Race_Black  Race_Other  Race_White  \\\n",
      "0             60.0           0           0           1   \n",
      "1             62.0           0           0           1   \n",
      "2             75.0           0           0           1   \n",
      "3             84.0           0           0           1   \n",
      "4             50.0           0           0           1   \n",
      "\n",
      "   Marital_Status_Divorced  Marital_Status_Married  Marital_Status_Separated  \\\n",
      "0                        0                       1                         0   \n",
      "1                        0                       1                         0   \n",
      "2                        1                       0                         0   \n",
      "3                        0                       1                         0   \n",
      "4                        0                       1                         0   \n",
      "\n",
      "   Marital_Status_Single  Marital_Status_Widowed  \n",
      "0                      0                       0  \n",
      "1                      0                       0  \n",
      "2                      0                       0  \n",
      "3                      0                       0  \n",
      "4                      0                       0  \n"
     ]
    }
   ],
   "source": [
    "#Eliminacion de valores atipicos\n",
    "\n",
    "# Calcular la media y la desviación estándar de la primera variable\n",
    "mean1 = X['Tumor Size'].mean()\n",
    "sd1 = X['Tumor Size'].std()\n",
    "\n",
    "# Calcular los límites superior e inferior\n",
    "lim_sup1 = mean1 + 3 * sd1\n",
    "lim_inf1 = mean1 - 3 * sd1\n",
    "\n",
    "# Filtrar filas que cumplen la condición para la variable\n",
    "X = X[(X['Tumor Size'] < lim_sup1) & (X['Tumor Size'] > lim_inf1)]\n",
    "############################################################\n",
    "\n",
    "\n",
    "\n",
    "# Mostrar el nuevo conjunto de datos después de eliminar valores atípicos para la primera variable\n",
    "print(\"Nuevo conjunto de datos después de eliminar valores atípicos para la seleccionada:\")\n",
    "data_k2 = pd.DataFrame(X)\n",
    "print(data_k2.head())"
   ]
  },
  {
   "cell_type": "code",
   "execution_count": 158,
   "metadata": {},
   "outputs": [
    {
     "data": {
      "image/png": "[encoded data removed]",
      "text/plain": [
       "<Figure size 1200x800 with 1 Axes>"
      ]
     },
     "metadata": {},
     "output_type": "display_data"
    }
   ],
   "source": [
    "#GRAFICO DE CAJAS DESPUES DE Eliminacion de valores atipicos\n",
    "# Graficar diagramas de caja para todas las variables\n",
    "plt.figure(figsize=(12, 8))\n",
    "sns.boxplot(data=data_k2)\n",
    "plt.xticks(rotation=45)\n",
    "plt.title('Diagramas de Caja de Todas las Variables')\n",
    "plt.show()"
   ]
  },
  {
   "cell_type": "code",
   "execution_count": 159,
   "metadata": {},
   "outputs": [],
   "source": [
    "# Reajustar el conjunto de etiquetas para que coincida con el número de muestras en el conjunto de características\n",
    "y = y[data_k2.index]"
   ]
  },
  {
   "cell_type": "code",
   "execution_count": 160,
   "metadata": {},
   "outputs": [
    {
     "name": "stdout",
     "output_type": "stream",
     "text": [
      "Métricas para modelo Naive Bayes:\n",
      "Accuracy: 0.8791348600508906\n",
      "Precision: 0.9023383768913342\n",
      "Recall: 0.9647058823529412\n",
      "F1 Score: 0.9324804548685146\n",
      "\n",
      "\n"
     ]
    }
   ],
   "source": [
    "# Estandarizar las características\n",
    "scaler = StandardScaler()\n",
    "X_scaled = scaler.fit_transform(X)\n",
    "\n",
    "# Aplicar PCA\n",
    "pca = PCA()\n",
    "X_pca = pca.fit_transform(X_scaled)\n",
    "\n",
    "# Método del codo para elegir el número de componentes principales\n",
    "explained_variance = pca.explained_variance_ratio_\n",
    "cumulative_explained_variance = np.cumsum(explained_variance)\n",
    "num_components = np.argmax(cumulative_explained_variance >= 0.95) + 1  # Elegir número de componentes para explicar el 95% de la varianza\n",
    "\n",
    "# Reducir las características a los componentes seleccionados\n",
    "pca = PCA(n_components=num_components)\n",
    "X_pca = pca.fit_transform(X_scaled)\n",
    "\n",
    "# Partición de datos en entrenamiento y prueba\n",
    "X_train, X_test, y_train, y_test = train_test_split(X_pca, y, test_size=0.2, random_state=42)\n",
    "\n",
    "# Entrenar modelo Naive Bayes\n",
    "nb_model = GaussianNB()\n",
    "nb_model.fit(X_train, y_train)\n",
    "nb_y_pred = nb_model.predict(X_test)\n",
    "\n",
    "# Evaluar modelo Naive Bayes\n",
    "nb_accuracy = accuracy_score(y_test, nb_y_pred)\n",
    "nb_precision = precision_score(y_test, nb_y_pred)\n",
    "nb_recall = recall_score(y_test, nb_y_pred)\n",
    "nb_f1 = f1_score(y_test, nb_y_pred)\n",
    "\n",
    "# Entrenar modelo SVM\n",
    "svm_model = SVC()\n",
    "svm_model.fit(X_train, y_train)\n",
    "svm_y_pred = svm_model.predict(X_test)\n",
    "\n",
    "\n",
    "# Mostrar métricas\n",
    "print(\"Métricas para modelo Naive Bayes:\")\n",
    "print(\"Accuracy:\", nb_accuracy)\n",
    "print(\"Precision:\", nb_precision)\n",
    "print(\"Recall:\", nb_recall)\n",
    "print(\"F1 Score:\", nb_f1)\n",
    "print(\"\\n\")"
   ]
  },
  {
   "cell_type": "code",
   "execution_count": 161,
   "metadata": {},
   "outputs": [
    {
     "name": "stdout",
     "output_type": "stream",
     "text": [
      "Age: 0.0030534351145038\n",
      "Grade: 0.00368956743002542\n",
      "Tumor Size: 0.021374045801526687\n",
      "Regional Node Examined: -0.002035623409669218\n",
      "Reginol Node Positive: 0.0003816793893129611\n",
      "Survival Months: 0.01959287531806615\n",
      "Race_Black: -0.0012722646310432627\n",
      "Race_Other: 0.014122137404580126\n",
      "Race_White: 0.011450381679389299\n",
      "Marital_Status_Divorced: -0.001399491094147587\n",
      "Marital_Status_Married: 0.00012722646310431296\n"
     ]
    },
    {
     "ename": "IndexError",
     "evalue": "index 11 is out of bounds for axis 0 with size 11",
     "output_type": "error",
     "traceback": [
      "\u001b[1;31m---------------------------------------------------------------------------\u001b[0m",
      "\u001b[1;31mIndexError\u001b[0m                                Traceback (most recent call last)",
      "Cell \u001b[1;32mIn[161], line 12\u001b[0m\n\u001b[0;32m     10\u001b[0m \u001b[38;5;66;03m# Imprimir las características y su importancia\u001b[39;00m\n\u001b[0;32m     11\u001b[0m \u001b[38;5;28;01mfor\u001b[39;00m i, feature \u001b[38;5;129;01min\u001b[39;00m \u001b[38;5;28menumerate\u001b[39m(features):\n\u001b[1;32m---> 12\u001b[0m     \u001b[38;5;28mprint\u001b[39m(\u001b[38;5;124mf\u001b[39m\u001b[38;5;124m\"\u001b[39m\u001b[38;5;132;01m{\u001b[39;00mfeature\u001b[38;5;132;01m}\u001b[39;00m\u001b[38;5;124m: \u001b[39m\u001b[38;5;132;01m{\u001b[39;00m\u001b[43mimportance\u001b[49m\u001b[43m[\u001b[49m\u001b[43mi\u001b[49m\u001b[43m]\u001b[49m\u001b[38;5;132;01m}\u001b[39;00m\u001b[38;5;124m\"\u001b[39m)\n",
      "\u001b[1;31mIndexError\u001b[0m: index 11 is out of bounds for axis 0 with size 11"
     ]
    }
   ],
   "source": [
    "from sklearn.inspection import permutation_importance\n",
    "\n",
    "# Calcular la importancia de las características mediante permutación\n",
    "result = permutation_importance(svm_model, X_test, y_test, n_repeats=10, random_state=42)\n",
    "\n",
    "# Obtener los resultados y características más importantes\n",
    "importance = result.importances_mean\n",
    "features = X.columns\n",
    "\n",
    "# Imprimir las características y su importancia\n",
    "for i, feature in enumerate(features):\n",
    "    print(f\"{feature}: {importance[i]}\")\n"
   ]
  },
  {
   "attachments": {
    "image.png": {
     "image/png": "[encoded data removed]"
    }
   },
   "cell_type": "markdown",
   "metadata": {},
   "source": [
    "![image.png](attachment:image.png)"
   ]
  },
  {
   "cell_type": "code",
   "execution_count": null,
   "metadata": {},
   "outputs": [],
   "source": []
  },
  {
   "cell_type": "code",
   "execution_count": null,
   "metadata": {},
   "outputs": [],
   "source": []
  },
  {
   "cell_type": "code",
   "execution_count": null,
   "metadata": {},
   "outputs": [],
   "source": []
  }
 ],
 "metadata": {
  "kernelspec": {
   "display_name": "Python 3",
   "language": "python",
   "name": "python3"
  },
  "language_info": {
   "codemirror_mode": {
    "name": "ipython",
    "version": 3
   },
   "file_extension": ".py",
   "mimetype": "text/x-python",
   "name": "python",
   "nbconvert_exporter": "python",
   "pygments_lexer": "ipython3",
   "version": "3.11.0"
  }
 },
 "nbformat": 4,
 "nbformat_minor": 2
}
